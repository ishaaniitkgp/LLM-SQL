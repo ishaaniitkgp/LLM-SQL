{
  "nbformat": 4,
  "nbformat_minor": 0,
  "metadata": {
    "colab": {
      "provenance": [],
      "gpuType": "T4",
      "include_colab_link": true
    },
    "kernelspec": {
      "name": "python3",
      "display_name": "Python 3"
    },
    "language_info": {
      "name": "python"
    },
    "accelerator": "GPU"
  },
  "cells": [
    {
      "cell_type": "markdown",
      "metadata": {
        "id": "view-in-github",
        "colab_type": "text"
      },
      "source": [
        "<a href=\"https://colab.research.google.com/github/dhruvagja/DBMS-term-project/blob/main/DBMS_term_project_Dextop_website.ipynb\" target=\"_parent\"><img src=\"https://colab.research.google.com/assets/colab-badge.svg\" alt=\"Open In Colab\"/></a>"
      ]
    },
    {
      "cell_type": "code",
      "source": [
        "from google.colab.output import eval_js\n",
        "print(eval_js(\"google.colab.kernel.proxyPort(5000)\"))"
      ],
      "metadata": {
        "colab": {
          "base_uri": "https://localhost:8080/",
          "height": 34
        },
        "id": "O3mVJCJVqdR7",
        "outputId": "033c1598-0d27-453f-d1ce-be02004a16a3"
      },
      "execution_count": null,
      "outputs": [
        {
          "output_type": "stream",
          "name": "stdout",
          "text": [
            "https://uafys8te3y-496ff2e9c6d22116-5000-colab.googleusercontent.com/\n"
          ]
        }
      ]
    },
    {
      "cell_type": "code",
      "source": [
        "%%capture\n",
        "from flask import Flask, render_template, request\n",
        "import torch\n",
        "from transformers import AutoTokenizer\n",
        "import psycopg2\n",
        "from tabulate import tabulate\n",
        "import re\n",
        "\n",
        "!pip install peft"
      ],
      "metadata": {
        "id": "Ogp4GcgM7iQq"
      },
      "execution_count": null,
      "outputs": []
    },
    {
      "cell_type": "markdown",
      "source": [
        "### Creating a postgresql account to run in Colab"
      ],
      "metadata": {
        "id": "yxqV4u0s9iPW"
      }
    },
    {
      "cell_type": "code",
      "source": [
        "%%capture\n",
        "!sudo apt update\n",
        "!sudo apt install dirmngr ca-certificates software-properties-common gnupg gnupg2 apt-transport-https curl -y\n",
        "!curl -fSsL https://www.postgresql.org/media/keys/ACCC4CF8.asc | gpg --dearmor | sudo tee /usr/share/keyrings/postgresql.gpg > /dev/null\n",
        "!echo 'deb [arch=amd64,arm64,ppc64el signed-by=/usr/share/keyrings/postgresql.gpg] http://apt.postgresql.org/pub/repos/apt/ jammy-pgdg main' | sudo tee /etc/apt/sources.list.d/pgdg.list\n",
        "!sudo apt update\n",
        "!sudo apt install postgresql-client-15 postgresql-15 -y\n",
        "!sudo service postgresql start\n",
        "\n",
        "# !sudo -u postgres psql -c \"ALTER USER postgres PASSWORD 'postgres'\"\n"
      ],
      "metadata": {
        "id": "_CzsoHYE9h5P"
      },
      "execution_count": null,
      "outputs": []
    },
    {
      "cell_type": "code",
      "source": [
        "from google.colab import drive\n",
        "drive.mount('/content/drive')"
      ],
      "metadata": {
        "colab": {
          "base_uri": "https://localhost:8080/"
        },
        "id": "Dmt_Fw0OzFe1",
        "outputId": "1d3137cc-ff8c-4447-d286-527750d04646"
      },
      "execution_count": null,
      "outputs": [
        {
          "output_type": "stream",
          "name": "stdout",
          "text": [
            "Drive already mounted at /content/drive; to attempt to forcibly remount, call drive.mount(\"/content/drive\", force_remount=True).\n"
          ]
        }
      ]
    },
    {
      "cell_type": "code",
      "source": [
        "!sudo -u postgres psql -U postgres -c \"CREATE ROLE root WITH SUPERUSER;\"\n",
        "!sudo -u postgres psql -U postgres -c \"ALTER ROLE root WITH LOGIN;\"\n",
        "!sudo -u postgres psql -U postgres -c \"CREATE ROLE postgres WITH PASSWORD 'postgres';\"\n",
        "!sudo -u postgres psql -c \"ALTER USER postgres PASSWORD 'postgres'\"\n"
      ],
      "metadata": {
        "id": "4D4Ndmk1_lTZ",
        "colab": {
          "base_uri": "https://localhost:8080/"
        },
        "outputId": "86411718-01bc-460e-87b1-b91f7be3c888"
      },
      "execution_count": null,
      "outputs": [
        {
          "output_type": "stream",
          "name": "stdout",
          "text": [
            "ERROR:  role \"root\" already exists\n",
            "ALTER ROLE\n",
            "ERROR:  role \"postgres\" already exists\n",
            "ALTER ROLE\n"
          ]
        }
      ]
    },
    {
      "cell_type": "code",
      "execution_count": null,
      "metadata": {
        "id": "gtQq_vouihnB",
        "colab": {
          "base_uri": "https://localhost:8080/"
        },
        "outputId": "b2911189-9892-43cd-ee11-d9469b9eb5c1"
      },
      "outputs": [
        {
          "output_type": "stream",
          "name": "stdout",
          "text": [
            "Connection established successfully!\n",
            " * Serving Flask app '__main__'\n",
            " * Debug mode: off\n"
          ]
        },
        {
          "output_type": "stream",
          "name": "stderr",
          "text": [
            "INFO:werkzeug:\u001b[31m\u001b[1mWARNING: This is a development server. Do not use it in a production deployment. Use a production WSGI server instead.\u001b[0m\n",
            " * Running on http://127.0.0.1:5000\n",
            "INFO:werkzeug:\u001b[33mPress CTRL+C to quit\u001b[0m\n"
          ]
        }
      ],
      "source": [
        "\n",
        "app = Flask(__name__, template_folder='/content/drive/MyDrive/DBMS-term-project/templates')\n",
        "\n",
        "model_id = \"TinyLlama/TinyLlama-1.1B-Chat-v1.0\"\n",
        "\n",
        "tokenizer = AutoTokenizer.from_pretrained(model_id)\n",
        "tokenizer.pad_token = tokenizer.eos_token\n",
        "model = torch.load('/content/drive/MyDrive/DBMS-term-project/model/text2sql.pt')\n",
        "# model = torch.load('/content/drive/MyDrive/DBMS-term-project/model/text2sql.pt', map_location=torch.device('cpu'))\n",
        "\n",
        "def chat_template(question, context):\n",
        "\n",
        "    template = f\"\"\"\\\n",
        "    <|im_start|>user\n",
        "    Given the context, generate an SQL query for the following question\n",
        "    context:{context}\n",
        "    question:{question}\n",
        "    <|im_end|>\n",
        "    <|im_start|>assistant\n",
        "    \"\"\"\n",
        "    # Remove any leading whitespace characters from each line in the template.\n",
        "    template = \"\\n\".join([line.lstrip() for line in template.splitlines()])\n",
        "    return template\n",
        "\n",
        "@app.route('/', methods=['GET', 'POST'])\n",
        "def main():\n",
        "    # return render_template('main.html')\n",
        "     if request.method == 'GET':\n",
        "        return(render_template('main.html'))\n",
        "\n",
        "     if request.method == 'POST':\n",
        "        question = request.form.get(\"question\")\n",
        "        predict_text = \"Question: \"\n",
        "        table = request.form.get(\"context\")\n",
        "        def generate_create_table_statements(input_string):\n",
        "            table_definitions = [table.strip() for table in input_string.split(':')]\n",
        "\n",
        "            create_table_statements = []\n",
        "            for table_definition in table_definitions:\n",
        "                table_parts = table_definition.split('(', maxsplit=1)\n",
        "                if len(table_parts) == 2:  # Ensure there are both table name and columns\n",
        "                    table_name = table_parts[0].strip()\n",
        "                    columns = '(' + table_parts[1]  # Add parentheses back to the columns\n",
        "                    create_table_statement = f\"CREATE TABLE {table_name} {columns};\"\n",
        "                    create_table_statements.append(create_table_statement)\n",
        "                else:\n",
        "                    print(f\"Invalid table definition: {table_definition}\")\n",
        "\n",
        "            return create_table_statements\n",
        "\n",
        "        contexts = generate_create_table_statements(table)\n",
        "        context = \"\"\n",
        "        for c in contexts:\n",
        "            context = context + c + \" \"\n",
        "        prompt = chat_template(question, context)\n",
        "        print(prompt)\n",
        "\n",
        "        inputs = tokenizer(prompt, return_tensors=\"pt\").to('cuda')\n",
        "        # inputs = tokenizer(prompt, return_tensors=\"pt\")\n",
        "        output = model.generate(**inputs, max_new_tokens=512)\n",
        "        text = tokenizer.decode(output[0], skip_special_tokens=True)\n",
        "        sql_query = re.search(r'assistant\\n(.*?)(\\n|$)', text, re.DOTALL).group(1)\n",
        "        print(sql_query)\n",
        "\n",
        "        sql_query = sql_query + \";\"\n",
        "        sql_query = sql_query.replace('\"', \"'\")\n",
        "        error_message=\"\"\n",
        "        try:\n",
        "            cursor.execute(sql_query)\n",
        "        except Exception as e:\n",
        "            print(\"Query failed to execute.\", e)\n",
        "            error_message=\"Failed to generate query, Rewrite the question and context\"\n",
        "            return(render_template('main.html',predict_text=predict_text, question=question, query=sql_query,result=\"Query failed\", error_message=error_message))\n",
        "        rows = cursor.fetchall()\n",
        "\n",
        "        print(\"\\nQuery output: \")\n",
        "        for row in rows:\n",
        "          print(row)\n",
        "\n",
        "        query_text = \"Query genereated: \"\n",
        "\n",
        "        return(render_template('main.html', predict_text=predict_text, question=question, query=sql_query, query_text=query_text, result=tabulate(rows, tablefmt=\"psql\")))\n",
        "\n",
        "if __name__==\"__main__\":\n",
        "    try:\n",
        "        connection = psycopg2.connect(\n",
        "            host=\"localhost\",\n",
        "            port=5432,\n",
        "            database=\"postgres\",\n",
        "            user=\"postgres\",\n",
        "            password=\"postgres\"\n",
        "        )\n",
        "        cursor = connection.cursor()\n",
        "        print(\"Connection established successfully!\")\n",
        "        with open('/content/drive/MyDrive/DBMS-term-project/new_db.txt', 'r') as file:\n",
        "            text = file.read()\n",
        "        cursor.execute(text)\n",
        "\n",
        "    except Exception as e:\n",
        "        print(\"Error connecting to the database:\", e)\n",
        "\n",
        "\n",
        "\n",
        "    app.run()"
      ]
    },
    {
      "cell_type": "markdown",
      "source": [
        "### Hosting app on public host"
      ],
      "metadata": {
        "id": "qh9_YP1RilV6"
      }
    }
  ]
}